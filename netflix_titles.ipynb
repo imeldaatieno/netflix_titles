{
 "cells": [
  {
   "cell_type": "code",
   "execution_count": null,
   "metadata": {},
   "outputs": [],
   "source": [
    "Reading csv file."
   ]
  },
  {
   "cell_type": "code",
   "execution_count": null,
   "metadata": {},
   "outputs": [],
   "source": [
    "import pandas as pd\n",
    "csv_file_path = \"C:\\Users\\hp\\Documents\\netflix_titles.csv\"\n",
    "df = pd.read_csv(\"C:\\Users\\hp\\Documents\\netflix_titles.csv\")"
   ]
  },
  {
   "cell_type": "markdown",
   "metadata": {},
   "source": [
    "Dropping duplicates"
   ]
  },
  {
   "cell_type": "code",
   "execution_count": null,
   "metadata": {},
   "outputs": [],
   "source": [
    "df = df.drop_duplicates()\n",
    "print(df)"
   ]
  },
  {
   "cell_type": "markdown",
   "metadata": {},
   "source": [
    "Dropping missing values"
   ]
  },
  {
   "cell_type": "code",
   "execution_count": null,
   "metadata": {},
   "outputs": [],
   "source": [
    "df = df.dropna()\n",
    "print(df)"
   ]
  },
  {
   "cell_type": "markdown",
   "metadata": {},
   "source": [
    "Grouping by titles"
   ]
  },
  {
   "cell_type": "code",
   "execution_count": null,
   "metadata": {},
   "outputs": [],
   "source": [
    "import pandas as pd\n",
    "df = pd.read_csv(r'C:\\Users\\hp\\Downloads\\netflix_titles.csv')\n",
    "print(df)"
   ]
  },
  {
   "cell_type": "code",
   "execution_count": null,
   "metadata": {},
   "outputs": [],
   "source": [
    "group_by_title = df.groupby('title').size()\n",
    "print(group_by_title)"
   ]
  },
  {
   "cell_type": "markdown",
   "metadata": {},
   "source": [
    "Grouping by release year"
   ]
  },
  {
   "cell_type": "code",
   "execution_count": null,
   "metadata": {},
   "outputs": [],
   "source": [
    "group_by_release_year = df.groupby('release_year').size()\n",
    "print(group_by_release_year)\n",
    "group_by_release_year.to_csv('group_by_release_year.csv', header=True)"
   ]
  },
  {
   "cell_type": "markdown",
   "metadata": {},
   "source": [
    "Importing data from IMDb Api"
   ]
  },
  {
   "cell_type": "code",
   "execution_count": 20,
   "metadata": {},
   "outputs": [
    {
     "name": "stdout",
     "output_type": "stream",
     "text": [
      "No such attribute\n",
      "C:\\Users\\hp\\Downloads\\netflix_titles.csv\n"
     ]
    }
   ],
   "source": [
    "import requests\n",
    "import pandas as pd\n",
    "from bs4 import BeautifulSoup\n",
    "\n",
    "df = pd.read_csv = (r'C:\\Users\\hp\\Downloads\\netflix_titles.csv')\n",
    "\n",
    "class IMDb:\n",
    "    \n",
    "    def getRatingByImdbId(self, title, soup):\n",
    "        rating_element = soup.find(\"span\", itemprop=\"rating value\")\n",
    "        if rating_element:\n",
    "            return rating_element.get_text()\n",
    "        return None\n",
    "\n",
    "ia = IMDb()\n",
    "try:\n",
    "  for index, row in df.iterrows():\n",
    "    title = row['title']\n",
    "    soup = ia.getSoup(title, None)\n",
    "    imdb_rating = ia.getRatingByImdb(title, soup)\n",
    "\n",
    "  df.at[index, 'imdb_rating'] = imdb_rating\n",
    "except AttributeError:\n",
    "  print('No such attribute')\n",
    "  \n",
    "print(df)"
   ]
  }
 ],
 "metadata": {
  "kernelspec": {
   "display_name": "Python 3",
   "language": "python",
   "name": "python3"
  },
  "language_info": {
   "codemirror_mode": {
    "name": "ipython",
    "version": 3
   },
   "file_extension": ".py",
   "mimetype": "text/x-python",
   "name": "python",
   "nbconvert_exporter": "python",
   "pygments_lexer": "ipython3",
   "version": "3.11.4"
  },
  "orig_nbformat": 4
 },
 "nbformat": 4,
 "nbformat_minor": 2
}
